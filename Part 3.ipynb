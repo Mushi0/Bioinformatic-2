{
 "cells": [
  {
   "cell_type": "code",
   "execution_count": null,
   "metadata": {},
   "outputs": [],
   "source": []
  },
  {
   "cell_type": "markdown",
   "metadata": {},
   "source": [
    "**Part Three [20 marks]**\n",
    "\n",
    " - 10 marks for successfully completing the tasks.\n",
    " - up to 6 marks for including one additional piece of analysis.\n",
    " - up to 4 marks for exceptionally well organised and executed approach."
   ]
  },
  {
   "cell_type": "markdown",
   "metadata": {},
   "source": [
    "We now want to see if there’s any evidence that these proteins work together. One way to look at this is to look at whether any of their proteins physically interact in a co-ordinated way. To assess this, you will now do some basic network analysis on protein-protein interaction data."
   ]
  },
  {
   "cell_type": "markdown",
   "metadata": {},
   "source": [
    "## Task 1\n",
    "\n",
    "Create a plain text file of the NCBI UIDs for all of the gene-score 1 SFARI genes. Then, using the STRING website (https://string-db.org/) upload the gene-score 1 gene list, select “homo sapiens” as the species and hit search then click continue to visualise the protein-protein interaction network. In this network the genes are the nodes and the interactions between them the edges (connections). Click the “analysis” option near the bottom and report the following statistics: “number of nodes”, “number of edges” and “average node degree” (3 marks)."
   ]
  },
  {
   "cell_type": "markdown",
   "metadata": {},
   "source": [
    "## Task 2\n",
    "\n",
    "Click the “cluster” option and select “MCL clustering” with the default option. Download the “MCL clusters in TSV format” file. From this, find the two biggest clusters produced by the MCL clustering and use the PantherDB tool as in Part Two to analyse the function of genes in these clusters. This time instead of selecting “Biological Process” ontology use the “Pathway” ontology (6 marks)."
   ]
  },
  {
   "cell_type": "markdown",
   "metadata": {},
   "source": [
    "## Task 3\n",
    "\n",
    "Click the “exports” option and download the network as a “bitmap image” file (1 mark)."
   ]
  },
  {
   "cell_type": "markdown",
   "metadata": {},
   "source": [
    "## Requirement\n",
    "\n",
    "Compare and contrast your results from the two clusters above, commenting on the functional differences highlighted by the Panther tool. Also, compare back to your findings from Part Two.\n",
    "\n",
    "Possible extensions would be to repeat these analyses with other gene-score restricted lists and with them all combined. Also, using other ontologies with the Panther tool to explore cluster functions."
   ]
  }
 ],
 "metadata": {
  "kernelspec": {
   "display_name": "Python 3",
   "language": "python",
   "name": "python3"
  },
  "language_info": {
   "codemirror_mode": {
    "name": "ipython",
    "version": 3
   },
   "file_extension": ".py",
   "mimetype": "text/x-python",
   "name": "python",
   "nbconvert_exporter": "python",
   "pygments_lexer": "ipython3",
   "version": "3.8.3"
  }
 },
 "nbformat": 4,
 "nbformat_minor": 4
}
