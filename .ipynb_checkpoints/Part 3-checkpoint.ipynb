{
 "cells": [
  {
   "cell_type": "code",
   "execution_count": 1,
   "metadata": {},
   "outputs": [],
   "source": [
    "import pandas as pd"
   ]
  },
  {
   "cell_type": "markdown",
   "metadata": {},
   "source": [
    "**Part Three [20 marks]**\n",
    "\n",
    " - 10 marks for successfully completing the tasks.\n",
    " - up to 6 marks for including one additional piece of analysis.\n",
    " - up to 4 marks for exceptionally well organised and executed approach."
   ]
  },
  {
   "cell_type": "markdown",
   "metadata": {},
   "source": [
    "We now want to see if there’s any evidence that these proteins work together. One way to look at this is to look at whether any of their proteins physically interact in a co-ordinated way. To assess this, you will now do some basic network analysis on protein-protein interaction data."
   ]
  },
  {
   "cell_type": "markdown",
   "metadata": {},
   "source": [
    "## Task 1\n",
    "\n",
    "Create a plain text file of the NCBI UIDs for all of the gene-score 1 SFARI genes. Then, using the STRING website (https://string-db.org/) upload the gene-score 1 gene list, select “homo sapiens” as the species and hit search then click continue to visualise the protein-protein interaction network. In this network the genes are the nodes and the interactions between them the edges (connections). Click the “analysis” option near the bottom and report the following statistics: “number of nodes”, “number of edges” and “average node degree” (3 marks)."
   ]
  },
  {
   "cell_type": "markdown",
   "metadata": {},
   "source": [
    "number of nodes:\t193\n",
    "\n",
    "number of edges:\t990\n",
    "\n",
    "average node degree:\t10.3\n",
    "\n",
    "avg. local clustering coefficient:\t0.429"
   ]
  },
  {
   "cell_type": "markdown",
   "metadata": {},
   "source": [
    "## Task 2\n",
    "\n",
    "Click the “cluster” option and select “MCL clustering” with the default option. Download the “MCL clusters in TSV format” file. From this, find the two biggest clusters produced by the MCL clustering and use the PantherDB tool as in Part Two to analyse the function of genes in these clusters. This time instead of selecting “Biological Process” ontology use the “Pathway” ontology (6 marks)."
   ]
  },
  {
   "cell_type": "code",
   "execution_count": 4,
   "metadata": {},
   "outputs": [
    {
     "data": {
      "text/html": [
       "<div>\n",
       "<style scoped>\n",
       "    .dataframe tbody tr th:only-of-type {\n",
       "        vertical-align: middle;\n",
       "    }\n",
       "\n",
       "    .dataframe tbody tr th {\n",
       "        vertical-align: top;\n",
       "    }\n",
       "\n",
       "    .dataframe thead th {\n",
       "        text-align: right;\n",
       "    }\n",
       "</style>\n",
       "<table border=\"1\" class=\"dataframe\">\n",
       "  <thead>\n",
       "    <tr style=\"text-align: right;\">\n",
       "      <th></th>\n",
       "      <th>#clustering method</th>\n",
       "      <th>cluster number</th>\n",
       "      <th>cluster color</th>\n",
       "      <th>gene count</th>\n",
       "      <th>protein name</th>\n",
       "      <th>protein identifier</th>\n",
       "      <th>protein description</th>\n",
       "    </tr>\n",
       "  </thead>\n",
       "  <tbody>\n",
       "    <tr>\n",
       "      <th>0</th>\n",
       "      <td>MCL</td>\n",
       "      <td>1</td>\n",
       "      <td>Red</td>\n",
       "      <td>22</td>\n",
       "      <td>ARID1B</td>\n",
       "      <td>9606.ENSP00000344546</td>\n",
       "      <td>AT-rich interactive domain-containing protein ...</td>\n",
       "    </tr>\n",
       "    <tr>\n",
       "      <th>1</th>\n",
       "      <td>MCL</td>\n",
       "      <td>1</td>\n",
       "      <td>Red</td>\n",
       "      <td>22</td>\n",
       "      <td>BCL11A</td>\n",
       "      <td>9606.ENSP00000338774</td>\n",
       "      <td>B-cell lymphoma/leukemia 11A; Transcription fa...</td>\n",
       "    </tr>\n",
       "    <tr>\n",
       "      <th>2</th>\n",
       "      <td>MCL</td>\n",
       "      <td>1</td>\n",
       "      <td>Red</td>\n",
       "      <td>22</td>\n",
       "      <td>CHD7</td>\n",
       "      <td>9606.ENSP00000392028</td>\n",
       "      <td>Chromodomain-helicase-DNA-binding protein 7; P...</td>\n",
       "    </tr>\n",
       "    <tr>\n",
       "      <th>3</th>\n",
       "      <td>MCL</td>\n",
       "      <td>1</td>\n",
       "      <td>Red</td>\n",
       "      <td>22</td>\n",
       "      <td>CREBBP</td>\n",
       "      <td>9606.ENSP00000262367</td>\n",
       "      <td>CREB-binding protein; Acetylates histones, giv...</td>\n",
       "    </tr>\n",
       "    <tr>\n",
       "      <th>4</th>\n",
       "      <td>MCL</td>\n",
       "      <td>1</td>\n",
       "      <td>Red</td>\n",
       "      <td>22</td>\n",
       "      <td>DNMT3A</td>\n",
       "      <td>9606.ENSP00000264709</td>\n",
       "      <td>DNA (cytosine-5)-methyltransferase 3A; Require...</td>\n",
       "    </tr>\n",
       "  </tbody>\n",
       "</table>\n",
       "</div>"
      ],
      "text/plain": [
       "  #clustering method  cluster number cluster color  gene count protein name  \\\n",
       "0                MCL               1           Red          22       ARID1B   \n",
       "1                MCL               1           Red          22       BCL11A   \n",
       "2                MCL               1           Red          22         CHD7   \n",
       "3                MCL               1           Red          22       CREBBP   \n",
       "4                MCL               1           Red          22       DNMT3A   \n",
       "\n",
       "     protein identifier                                protein description  \n",
       "0  9606.ENSP00000344546  AT-rich interactive domain-containing protein ...  \n",
       "1  9606.ENSP00000338774  B-cell lymphoma/leukemia 11A; Transcription fa...  \n",
       "2  9606.ENSP00000392028  Chromodomain-helicase-DNA-binding protein 7; P...  \n",
       "3  9606.ENSP00000262367  CREB-binding protein; Acetylates histones, giv...  \n",
       "4  9606.ENSP00000264709  DNA (cytosine-5)-methyltransferase 3A; Require...  "
      ]
     },
     "execution_count": 4,
     "metadata": {},
     "output_type": "execute_result"
    }
   ],
   "source": [
    "clusters = pd.read_csv('string_MCL_clusters.tsv', sep='\\t')\n",
    "\n",
    "clusters.head()"
   ]
  },
  {
   "cell_type": "code",
   "execution_count": 10,
   "metadata": {},
   "outputs": [
    {
     "data": {
      "text/html": [
       "<div>\n",
       "<style scoped>\n",
       "    .dataframe tbody tr th:only-of-type {\n",
       "        vertical-align: middle;\n",
       "    }\n",
       "\n",
       "    .dataframe tbody tr th {\n",
       "        vertical-align: top;\n",
       "    }\n",
       "\n",
       "    .dataframe thead th {\n",
       "        text-align: right;\n",
       "    }\n",
       "</style>\n",
       "<table border=\"1\" class=\"dataframe\">\n",
       "  <thead>\n",
       "    <tr style=\"text-align: right;\">\n",
       "      <th></th>\n",
       "      <th>count</th>\n",
       "    </tr>\n",
       "    <tr>\n",
       "      <th>cluster number</th>\n",
       "      <th></th>\n",
       "    </tr>\n",
       "  </thead>\n",
       "  <tbody>\n",
       "    <tr>\n",
       "      <th>1</th>\n",
       "      <td>22</td>\n",
       "    </tr>\n",
       "    <tr>\n",
       "      <th>2</th>\n",
       "      <td>22</td>\n",
       "    </tr>\n",
       "    <tr>\n",
       "      <th>3</th>\n",
       "      <td>11</td>\n",
       "    </tr>\n",
       "    <tr>\n",
       "      <th>4</th>\n",
       "      <td>8</td>\n",
       "    </tr>\n",
       "    <tr>\n",
       "      <th>5</th>\n",
       "      <td>7</td>\n",
       "    </tr>\n",
       "  </tbody>\n",
       "</table>\n",
       "</div>"
      ],
      "text/plain": [
       "                count\n",
       "cluster number       \n",
       "1                  22\n",
       "2                  22\n",
       "3                  11\n",
       "4                   8\n",
       "5                   7"
      ]
     },
     "execution_count": 10,
     "metadata": {},
     "output_type": "execute_result"
    }
   ],
   "source": [
    "cluster_count = pd.DataFrame(clusters.value_counts('cluster number'), columns = ['count']).sort_values('count', ascending = False)\n",
    "\n",
    "cluster_count.head()"
   ]
  },
  {
   "cell_type": "markdown",
   "metadata": {},
   "source": [
    "## Task 3\n",
    "\n",
    "Click the “exports” option and download the network as a “bitmap image” file (1 mark)."
   ]
  },
  {
   "cell_type": "code",
   "execution_count": null,
   "metadata": {},
   "outputs": [],
   "source": []
  },
  {
   "cell_type": "markdown",
   "metadata": {},
   "source": [
    "## Requirement\n",
    "\n",
    "Compare and contrast your results from the two clusters above, commenting on the functional differences highlighted by the Panther tool. Also, compare back to your findings from Part Two.\n",
    "\n",
    "Possible extensions would be to repeat these analyses with other gene-score restricted lists and with them all combined. Also, using other ontologies with the Panther tool to explore cluster functions."
   ]
  }
 ],
 "metadata": {
  "kernelspec": {
   "display_name": "Python 3",
   "language": "python",
   "name": "python3"
  },
  "language_info": {
   "codemirror_mode": {
    "name": "ipython",
    "version": 3
   },
   "file_extension": ".py",
   "mimetype": "text/x-python",
   "name": "python",
   "nbconvert_exporter": "python",
   "pygments_lexer": "ipython3",
   "version": "3.8.3"
  }
 },
 "nbformat": 4,
 "nbformat_minor": 4
}
